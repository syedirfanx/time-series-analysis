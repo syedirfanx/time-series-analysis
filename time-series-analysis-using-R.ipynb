{
 "cells": [
  {
   "cell_type": "code",
   "execution_count": 5,
   "id": "ba0b8460",
   "metadata": {},
   "outputs": [],
   "source": [
    "library(data.table)"
   ]
  },
  {
   "cell_type": "code",
   "execution_count": 6,
   "id": "28605a25",
   "metadata": {},
   "outputs": [],
   "source": [
    "library(zoo)"
   ]
  },
  {
   "cell_type": "code",
   "execution_count": 20,
   "id": "7b9e897c",
   "metadata": {},
   "outputs": [],
   "source": [
    "x <- c(30,29,83,75,44)\n",
    "y <- c(33,54,92,45,22)"
   ]
  },
  {
   "cell_type": "code",
   "execution_count": 21,
   "id": "ed0d8039",
   "metadata": {},
   "outputs": [
    {
     "data": {
      "text/html": [
       "<ol class=list-inline>\n",
       "\t<li>30</li>\n",
       "\t<li>29</li>\n",
       "\t<li>83</li>\n",
       "\t<li>75</li>\n",
       "\t<li>44</li>\n",
       "</ol>\n"
      ],
      "text/latex": [
       "\\begin{enumerate*}\n",
       "\\item 30\n",
       "\\item 29\n",
       "\\item 83\n",
       "\\item 75\n",
       "\\item 44\n",
       "\\end{enumerate*}\n"
      ],
      "text/markdown": [
       "1. 30\n",
       "2. 29\n",
       "3. 83\n",
       "4. 75\n",
       "5. 44\n",
       "\n",
       "\n"
      ],
      "text/plain": [
       "[1] 30 29 83 75 44"
      ]
     },
     "metadata": {},
     "output_type": "display_data"
    }
   ],
   "source": [
    "x"
   ]
  },
  {
   "cell_type": "code",
   "execution_count": 22,
   "id": "b8ff1bcd",
   "metadata": {},
   "outputs": [
    {
     "data": {
      "text/html": [
       "<ol class=list-inline>\n",
       "\t<li>33</li>\n",
       "\t<li>54</li>\n",
       "\t<li>92</li>\n",
       "\t<li>45</li>\n",
       "\t<li>22</li>\n",
       "</ol>\n"
      ],
      "text/latex": [
       "\\begin{enumerate*}\n",
       "\\item 33\n",
       "\\item 54\n",
       "\\item 92\n",
       "\\item 45\n",
       "\\item 22\n",
       "\\end{enumerate*}\n"
      ],
      "text/markdown": [
       "1. 33\n",
       "2. 54\n",
       "3. 92\n",
       "4. 45\n",
       "5. 22\n",
       "\n",
       "\n"
      ],
      "text/plain": [
       "[1] 33 54 92 45 22"
      ]
     },
     "metadata": {},
     "output_type": "display_data"
    }
   ],
   "source": [
    "y"
   ]
  },
  {
   "cell_type": "code",
   "execution_count": 23,
   "id": "e6f1ceb3",
   "metadata": {},
   "outputs": [],
   "source": [
    "dt <- seq(as.Date(\"2018-01-01\"), as.Date(\"2018-01-05\"), by = \"days\")"
   ]
  },
  {
   "cell_type": "code",
   "execution_count": 24,
   "id": "de58fbf3",
   "metadata": {},
   "outputs": [
    {
     "data": {
      "text/html": [
       "<ol class=list-inline>\n",
       "\t<li><time datetime=\"2018-01-01\">2018-01-01</time></li>\n",
       "\t<li><time datetime=\"2018-01-02\">2018-01-02</time></li>\n",
       "\t<li><time datetime=\"2018-01-03\">2018-01-03</time></li>\n",
       "\t<li><time datetime=\"2018-01-04\">2018-01-04</time></li>\n",
       "\t<li><time datetime=\"2018-01-05\">2018-01-05</time></li>\n",
       "</ol>\n"
      ],
      "text/latex": [
       "\\begin{enumerate*}\n",
       "\\item 2018-01-01\n",
       "\\item 2018-01-02\n",
       "\\item 2018-01-03\n",
       "\\item 2018-01-04\n",
       "\\item 2018-01-05\n",
       "\\end{enumerate*}\n"
      ],
      "text/markdown": [
       "1. 2018-01-01\n",
       "2. 2018-01-02\n",
       "3. 2018-01-03\n",
       "4. 2018-01-04\n",
       "5. 2018-01-05\n",
       "\n",
       "\n"
      ],
      "text/plain": [
       "[1] \"2018-01-01\" \"2018-01-02\" \"2018-01-03\" \"2018-01-04\" \"2018-01-05\""
      ]
     },
     "metadata": {},
     "output_type": "display_data"
    }
   ],
   "source": [
    "dt"
   ]
  },
  {
   "cell_type": "code",
   "execution_count": 31,
   "id": "12e0c925",
   "metadata": {},
   "outputs": [],
   "source": [
    "ts <- zoo(x, dt)"
   ]
  },
  {
   "cell_type": "code",
   "execution_count": 32,
   "id": "074a3007",
   "metadata": {},
   "outputs": [
    {
     "data": {
      "text/plain": [
       "2018-01-01 2018-01-02 2018-01-03 2018-01-04 2018-01-05 \n",
       "        30         29         83         75         44 "
      ]
     },
     "metadata": {},
     "output_type": "display_data"
    }
   ],
   "source": [
    "ts"
   ]
  },
  {
   "cell_type": "code",
   "execution_count": 33,
   "id": "ae441c74",
   "metadata": {},
   "outputs": [],
   "source": [
    "library(xts)"
   ]
  },
  {
   "cell_type": "code",
   "execution_count": 36,
   "id": "981c2477",
   "metadata": {},
   "outputs": [],
   "source": [
    "ts <- xts(y, dt)"
   ]
  },
  {
   "cell_type": "code",
   "execution_count": 19,
   "id": "9d49e555",
   "metadata": {},
   "outputs": [
    {
     "data": {
      "text/plain": [
       "           [,1]\n",
       "2018-01-01   30\n",
       "2018-01-02   29\n",
       "2018-01-03   83\n",
       "2018-01-04   75\n",
       "2018-01-05   44"
      ]
     },
     "metadata": {},
     "output_type": "display_data"
    }
   ],
   "source": [
    "ts"
   ]
  },
  {
   "cell_type": "code",
   "execution_count": 38,
   "id": "7a8ac297",
   "metadata": {},
   "outputs": [],
   "source": [
    "prices <- c(132.45, 130.85, 130.00, 129.55, 130.85)"
   ]
  },
  {
   "cell_type": "code",
   "execution_count": 42,
   "id": "75a7f966",
   "metadata": {},
   "outputs": [],
   "source": [
    "# dates <- as.Date(c(\n",
    "#   \"2010-01-04\", \"2010-01-05\", \"2010-01-06\",\n",
    "#   \"2010-01-07\", \"2010-01-08\"\n",
    "# ))\n",
    "\n",
    "dates <- seq(as.Date(\"2010-01-04\"), as.Date(\"2010-01-08\"), by = \"days\")"
   ]
  },
  {
   "cell_type": "code",
   "execution_count": 43,
   "id": "08a12575",
   "metadata": {},
   "outputs": [],
   "source": [
    "ibm.daily <- zoo(prices, dates)"
   ]
  },
  {
   "cell_type": "code",
   "execution_count": 44,
   "id": "2484f71b",
   "metadata": {},
   "outputs": [
    {
     "data": {
      "text/plain": [
       "2010-01-04 2010-01-05 2010-01-06 2010-01-07 2010-01-08 \n",
       "    132.45     130.85     130.00     129.55     130.85 "
      ]
     },
     "metadata": {},
     "output_type": "display_data"
    }
   ],
   "source": [
    "ibm.daily"
   ]
  },
  {
   "cell_type": "code",
   "execution_count": 45,
   "id": "28a3eaa9",
   "metadata": {},
   "outputs": [],
   "source": [
    "prices <- c(131.18, 131.20, 131.17, 131.15, 131.17)"
   ]
  },
  {
   "cell_type": "code",
   "execution_count": 46,
   "id": "e89a978b",
   "metadata": {},
   "outputs": [],
   "source": [
    "seconds <- c(9.5, 9.500278, 9.500556, 9.500833, 9.501111)"
   ]
  },
  {
   "cell_type": "code",
   "execution_count": 47,
   "id": "58012829",
   "metadata": {},
   "outputs": [],
   "source": [
    "ibm.sec <- zoo(prices, seconds)"
   ]
  },
  {
   "cell_type": "code",
   "execution_count": 48,
   "id": "378148b0",
   "metadata": {},
   "outputs": [
    {
     "data": {
      "text/plain": [
       "   9.5 9.5003 9.5006 9.5008 9.5011 \n",
       "131.18 131.20 131.17 131.15 131.17 "
      ]
     },
     "metadata": {},
     "output_type": "display_data"
    }
   ],
   "source": [
    "ibm.sec"
   ]
  },
  {
   "cell_type": "code",
   "execution_count": 49,
   "id": "afe55980",
   "metadata": {},
   "outputs": [
    {
     "data": {
      "text/html": [
       "<ol class=list-inline>\n",
       "\t<li>132.45</li>\n",
       "\t<li>130.85</li>\n",
       "\t<li>130</li>\n",
       "\t<li>129.55</li>\n",
       "\t<li>130.85</li>\n",
       "</ol>\n"
      ],
      "text/latex": [
       "\\begin{enumerate*}\n",
       "\\item 132.45\n",
       "\\item 130.85\n",
       "\\item 130\n",
       "\\item 129.55\n",
       "\\item 130.85\n",
       "\\end{enumerate*}\n"
      ],
      "text/markdown": [
       "1. 132.45\n",
       "2. 130.85\n",
       "3. 130\n",
       "4. 129.55\n",
       "5. 130.85\n",
       "\n",
       "\n"
      ],
      "text/plain": [
       "[1] 132.45 130.85 130.00 129.55 130.85"
      ]
     },
     "metadata": {},
     "output_type": "display_data"
    }
   ],
   "source": [
    "coredata(ibm.daily)"
   ]
  },
  {
   "cell_type": "code",
   "execution_count": 50,
   "id": "08e24188",
   "metadata": {},
   "outputs": [
    {
     "data": {
      "text/html": [
       "<ol class=list-inline>\n",
       "\t<li>131.18</li>\n",
       "\t<li>131.2</li>\n",
       "\t<li>131.17</li>\n",
       "\t<li>131.15</li>\n",
       "\t<li>131.17</li>\n",
       "</ol>\n"
      ],
      "text/latex": [
       "\\begin{enumerate*}\n",
       "\\item 131.18\n",
       "\\item 131.2\n",
       "\\item 131.17\n",
       "\\item 131.15\n",
       "\\item 131.17\n",
       "\\end{enumerate*}\n"
      ],
      "text/markdown": [
       "1. 131.18\n",
       "2. 131.2\n",
       "3. 131.17\n",
       "4. 131.15\n",
       "5. 131.17\n",
       "\n",
       "\n"
      ],
      "text/plain": [
       "[1] 131.18 131.20 131.17 131.15 131.17"
      ]
     },
     "metadata": {},
     "output_type": "display_data"
    }
   ],
   "source": [
    "coredata(ibm.sec)"
   ]
  },
  {
   "cell_type": "code",
   "execution_count": 51,
   "id": "3f498518",
   "metadata": {},
   "outputs": [],
   "source": [
    "# load data\n",
    "IBM = data.table::fread(\"data/sp500data.csv\")"
   ]
  },
  {
   "cell_type": "code",
   "execution_count": 54,
   "id": "cf938ed3",
   "metadata": {},
   "outputs": [
    {
     "data": {
      "text/html": [
       "<table>\n",
       "<thead><tr><th scope=col>Date</th><th scope=col>Open</th><th scope=col>High</th><th scope=col>Low</th><th scope=col>Close*</th><th scope=col>Adj. close**</th><th scope=col>Volume</th></tr></thead>\n",
       "<tbody>\n",
       "\t<tr><td>2021-09-30   </td><td>4,370.67     </td><td>4,382.55     </td><td>4,306.24     </td><td>4,307.54     </td><td>4,307.54     </td><td>3,123,770,000</td></tr>\n",
       "\t<tr><td>2021-09-29   </td><td>4,362.41     </td><td>4,385.57     </td><td>4,355.08     </td><td>4,359.46     </td><td>4,359.46     </td><td>2,753,800,000</td></tr>\n",
       "\t<tr><td>2021-09-28   </td><td>4,419.54     </td><td>4,419.54     </td><td>4,346.33     </td><td>4,352.63     </td><td>4,352.63     </td><td>3,495,970,000</td></tr>\n",
       "\t<tr><td>2021-09-27   </td><td>4,442.12     </td><td>4,457.30     </td><td>4,436.19     </td><td>4,443.11     </td><td>4,443.11     </td><td>3,032,870,000</td></tr>\n",
       "\t<tr><td>2021-09-24   </td><td>4,438.04     </td><td>4,463.12     </td><td>4,430.27     </td><td>4,455.48     </td><td>4,455.48     </td><td>2,772,090,000</td></tr>\n",
       "\t<tr><td>2021-09-23   </td><td>4,406.75     </td><td>4,465.40     </td><td>4,406.75     </td><td>4,448.98     </td><td>4,448.98     </td><td>2,833,290,000</td></tr>\n",
       "\t<tr><td>2021-09-22   </td><td>4,367.43     </td><td>4,416.75     </td><td>4,367.43     </td><td>4,395.64     </td><td>4,395.64     </td><td>3,273,670,000</td></tr>\n",
       "\t<tr><td>2021-09-21   </td><td>4,374.45     </td><td>4,394.87     </td><td>4,347.96     </td><td>4,354.19     </td><td>4,354.19     </td><td>3,044,300,000</td></tr>\n",
       "\t<tr><td>2021-09-20   </td><td>4,402.95     </td><td>4,402.95     </td><td>4,305.91     </td><td>4,357.73     </td><td>4,357.73     </td><td>3,773,680,000</td></tr>\n",
       "\t<tr><td>2021-09-17   </td><td>4,469.74     </td><td>4,471.52     </td><td>4,427.76     </td><td>4,432.99     </td><td>4,432.99     </td><td>5,622,210,000</td></tr>\n",
       "\t<tr><td>2021-09-16   </td><td>4,477.09     </td><td>4,485.87     </td><td>4,443.80     </td><td>4,473.75     </td><td>4,473.75     </td><td>3,321,030,000</td></tr>\n",
       "\t<tr><td>2021-09-15   </td><td>4,447.49     </td><td>4,486.87     </td><td>4,438.37     </td><td>4,480.70     </td><td>4,480.70     </td><td>3,154,760,000</td></tr>\n",
       "\t<tr><td>2021-09-14   </td><td>4,479.33     </td><td>4,485.68     </td><td>4,435.46     </td><td>4,443.05     </td><td>4,443.05     </td><td>2,568,730,000</td></tr>\n",
       "\t<tr><td>2021-09-13   </td><td>4,474.81     </td><td>4,492.99     </td><td>4,445.70     </td><td>4,468.73     </td><td>4,468.73     </td><td>3,096,390,000</td></tr>\n",
       "\t<tr><td>2021-09-10   </td><td>4,506.92     </td><td>4,520.47     </td><td>4,457.66     </td><td>4,458.58     </td><td>4,458.58     </td><td>2,851,140,000</td></tr>\n",
       "\t<tr><td>2021-09-09   </td><td>4,513.02     </td><td>4,529.90     </td><td>4,492.07     </td><td>4,493.28     </td><td>4,493.28     </td><td>3,035,300,000</td></tr>\n",
       "\t<tr><td>2021-09-08   </td><td>4,518.09     </td><td>4,521.79     </td><td>4,493.95     </td><td>4,514.07     </td><td>4,514.07     </td><td>2,808,480,000</td></tr>\n",
       "\t<tr><td>2021-09-07   </td><td>4,535.38     </td><td>4,535.38     </td><td>4,513.00     </td><td>4,520.03     </td><td>4,520.03     </td><td>3,098,870,000</td></tr>\n",
       "\t<tr><td>2021-09-03   </td><td>4,532.42     </td><td>4,541.45     </td><td>4,521.30     </td><td>4,535.43     </td><td>4,535.43     </td><td>2,609,660,000</td></tr>\n",
       "\t<tr><td>2021-09-02   </td><td>4,534.48     </td><td>4,545.85     </td><td>4,524.66     </td><td>4,536.95     </td><td>4,536.95     </td><td>2,897,010,000</td></tr>\n",
       "\t<tr><td>2021-09-01   </td><td>4,528.80     </td><td>4,537.11     </td><td>4,522.02     </td><td>4,524.09     </td><td>4,524.09     </td><td>3,101,830,000</td></tr>\n",
       "\t<tr><td>2021-08-31   </td><td>4,529.75     </td><td>4,531.39     </td><td>4,515.80     </td><td>4,522.68     </td><td>4,522.68     </td><td>3,090,380,000</td></tr>\n",
       "\t<tr><td>2021-08-30   </td><td>4,513.76     </td><td>4,537.36     </td><td>4,513.76     </td><td>4,528.79     </td><td>4,528.79     </td><td>2,557,300,000</td></tr>\n",
       "\t<tr><td>2021-08-27   </td><td>4,474.10     </td><td>4,513.33     </td><td>4,474.10     </td><td>4,509.37     </td><td>4,509.37     </td><td>2,862,360,000</td></tr>\n",
       "\t<tr><td>2021-08-26   </td><td>4,493.75     </td><td>4,495.90     </td><td>4,468.99     </td><td>4,470.00     </td><td>4,470.00     </td><td>2,704,600,000</td></tr>\n",
       "\t<tr><td>2021-08-25   </td><td>4,490.45     </td><td>4,501.71     </td><td>4,485.66     </td><td>4,496.19     </td><td>4,496.19     </td><td>2,554,680,000</td></tr>\n",
       "\t<tr><td>2021-08-24   </td><td>4,484.40     </td><td>4,492.81     </td><td>4,482.28     </td><td>4,486.23     </td><td>4,486.23     </td><td>3,037,770,000</td></tr>\n",
       "\t<tr><td>2021-08-23   </td><td>4,450.29     </td><td>4,489.88     </td><td>4,450.29     </td><td>4,479.53     </td><td>4,479.53     </td><td>2,965,520,000</td></tr>\n",
       "\t<tr><td>2021-08-20   </td><td>4,410.56     </td><td>4,444.35     </td><td>4,406.80     </td><td>4,441.67     </td><td>4,441.67     </td><td>2,867,770,000</td></tr>\n",
       "\t<tr><td>2021-08-19   </td><td>4,382.44     </td><td>4,418.61     </td><td>4,367.73     </td><td>4,405.80     </td><td>4,405.80     </td><td>3,120,840,000</td></tr>\n",
       "\t<tr><td>...</td><td>...</td><td>...</td><td>...</td><td>...</td><td>...</td><td>...</td></tr>\n",
       "\t<tr><td>2000-02-11                                                                                                        </td><td>1,416.83                                                                                                          </td><td>1,416.83                                                                                                          </td><td>1,378.89                                                                                                          </td><td>1,387.12                                                                                                          </td><td>1,387.12                                                                                                          </td><td>1,025,700,000                                                                                                     </td></tr>\n",
       "\t<tr><td>2000-02-10                                                                                                        </td><td>1,411.70                                                                                                          </td><td>1,422.10                                                                                                          </td><td>1,406.43                                                                                                          </td><td>1,416.83                                                                                                          </td><td>1,416.83                                                                                                          </td><td>1,058,800,000                                                                                                     </td></tr>\n",
       "\t<tr><td>2000-02-09                                                                                                        </td><td>1,441.72                                                                                                          </td><td>1,444.55                                                                                                          </td><td>1,411.65                                                                                                          </td><td>1,411.71                                                                                                          </td><td>1,411.71                                                                                                          </td><td>1,050,500,000                                                                                                     </td></tr>\n",
       "\t<tr><td>2000-02-08                                                                                                        </td><td>1,424.24                                                                                                          </td><td>1,441.83                                                                                                          </td><td>1,424.24                                                                                                          </td><td>1,441.72                                                                                                          </td><td>1,441.72                                                                                                          </td><td>1,047,700,000                                                                                                     </td></tr>\n",
       "\t<tr><td>2000-02-07                                                                                                        </td><td>1,424.37                                                                                                          </td><td>1,427.15                                                                                                          </td><td>1,413.33                                                                                                          </td><td>1,424.24                                                                                                          </td><td>1,424.24                                                                                                          </td><td>918,100,000                                                                                                       </td></tr>\n",
       "\t<tr><td>2000-02-04                                                                                                        </td><td>1,424.97                                                                                                          </td><td>1,435.91                                                                                                          </td><td>1,420.63                                                                                                          </td><td>1,424.37                                                                                                          </td><td>1,424.37                                                                                                          </td><td>1,045,100,000                                                                                                     </td></tr>\n",
       "\t<tr><td>2000-02-03                                                                                                        </td><td>1,409.12                                                                                                          </td><td>1,425.78                                                                                                          </td><td>1,398.52                                                                                                          </td><td>1,424.97                                                                                                          </td><td>1,424.97                                                                                                          </td><td>1,146,500,000                                                                                                     </td></tr>\n",
       "\t<tr><td>2000-02-02                                                                                                        </td><td>1,409.28                                                                                                          </td><td>1,420.61                                                                                                          </td><td>1,403.49                                                                                                          </td><td>1,409.12                                                                                                          </td><td>1,409.12                                                                                                          </td><td>1,038,600,000                                                                                                     </td></tr>\n",
       "\t<tr><td>2000-02-01                                                                                                        </td><td>1,394.46                                                                                                          </td><td>1,412.49                                                                                                          </td><td>1,384.79                                                                                                          </td><td>1,409.28                                                                                                          </td><td>1,409.28                                                                                                          </td><td>981,000,000                                                                                                       </td></tr>\n",
       "\t<tr><td>2000-01-31                                                                                                        </td><td>1,360.16                                                                                                          </td><td>1,394.48                                                                                                          </td><td>1,350.14                                                                                                          </td><td>1,394.46                                                                                                          </td><td>1,394.46                                                                                                          </td><td>993,800,000                                                                                                       </td></tr>\n",
       "\t<tr><td>2000-01-28                                                                                                        </td><td>1,398.56                                                                                                          </td><td>1,398.56                                                                                                          </td><td>1,356.20                                                                                                          </td><td>1,360.16                                                                                                          </td><td>1,360.16                                                                                                          </td><td>1,095,800,000                                                                                                     </td></tr>\n",
       "\t<tr><td>2000-01-27                                                                                                        </td><td>1,404.09                                                                                                          </td><td>1,418.86                                                                                                          </td><td>1,370.99                                                                                                          </td><td>1,398.56                                                                                                          </td><td>1,398.56                                                                                                          </td><td>1,129,500,000                                                                                                     </td></tr>\n",
       "\t<tr><td>2000-01-26                                                                                                        </td><td>1,410.03                                                                                                          </td><td>1,412.73                                                                                                          </td><td>1,400.16                                                                                                          </td><td>1,404.09                                                                                                          </td><td>1,404.09                                                                                                          </td><td>1,117,300,000                                                                                                     </td></tr>\n",
       "\t<tr><td>2000-01-25                                                                                                        </td><td>1,401.53                                                                                                          </td><td>1,414.26                                                                                                          </td><td>1,388.49                                                                                                          </td><td>1,410.03                                                                                                          </td><td>1,410.03                                                                                                          </td><td>1,073,700,000                                                                                                     </td></tr>\n",
       "\t<tr><td>2000-01-24                                                                                                        </td><td>1,441.36                                                                                                          </td><td>1,454.09                                                                                                          </td><td>1,395.42                                                                                                          </td><td>1,401.53                                                                                                          </td><td>1,401.53                                                                                                          </td><td>1,115,800,000                                                                                                     </td></tr>\n",
       "\t<tr><td>2000-01-21                                                                                                        </td><td>1,445.57                                                                                                          </td><td>1,453.18                                                                                                          </td><td>1,439.60                                                                                                          </td><td>1,441.36                                                                                                          </td><td>1,441.36                                                                                                          </td><td>1,209,800,000                                                                                                     </td></tr>\n",
       "\t<tr><td>2000-01-20                                                                                                        </td><td>1,455.90                                                                                                          </td><td>1,465.71                                                                                                          </td><td>1,438.54                                                                                                          </td><td>1,445.57                                                                                                          </td><td>1,445.57                                                                                                          </td><td>1,100,700,000                                                                                                     </td></tr>\n",
       "\t<tr><td>2000-01-19                                                                                                        </td><td>1,455.14                                                                                                          </td><td>1,461.39                                                                                                          </td><td>1,448.68                                                                                                          </td><td>1,455.90                                                                                                          </td><td>1,455.90                                                                                                          </td><td>1,087,800,000                                                                                                     </td></tr>\n",
       "\t<tr><td>2000-01-18                                                                                                        </td><td>1,465.15                                                                                                          </td><td>1,465.15                                                                                                          </td><td>1,451.30                                                                                                          </td><td>1,455.14                                                                                                          </td><td>1,455.14                                                                                                          </td><td>1,056,700,000                                                                                                     </td></tr>\n",
       "\t<tr><td>2000-01-14                                                                                                        </td><td>1,449.68                                                                                                          </td><td>1,473.00                                                                                                          </td><td>1,449.68                                                                                                          </td><td>1,465.15                                                                                                          </td><td>1,465.15                                                                                                          </td><td>1,085,900,000                                                                                                     </td></tr>\n",
       "\t<tr><td>2000-01-13                                                                                                        </td><td>1,432.25                                                                                                          </td><td>1,454.20                                                                                                          </td><td>1,432.25                                                                                                          </td><td>1,449.68                                                                                                          </td><td>1,449.68                                                                                                          </td><td>1,030,400,000                                                                                                     </td></tr>\n",
       "\t<tr><td>2000-01-12                                                                                                        </td><td>1,438.56                                                                                                          </td><td>1,442.60                                                                                                          </td><td>1,427.08                                                                                                          </td><td>1,432.25                                                                                                          </td><td>1,432.25                                                                                                          </td><td>974,600,000                                                                                                       </td></tr>\n",
       "\t<tr><td>2000-01-11                                                                                                        </td><td>1,457.60                                                                                                          </td><td>1,458.66                                                                                                          </td><td>1,434.42                                                                                                          </td><td>1,438.56                                                                                                          </td><td>1,438.56                                                                                                          </td><td>1,014,000,000                                                                                                     </td></tr>\n",
       "\t<tr><td>2000-01-10                                                                                                        </td><td>1,441.47                                                                                                          </td><td>1,464.36                                                                                                          </td><td>1,441.47                                                                                                          </td><td>1,457.60                                                                                                          </td><td>1,457.60                                                                                                          </td><td>1,064,800,000                                                                                                     </td></tr>\n",
       "\t<tr><td>2000-01-07                                                                                                        </td><td>1,403.45                                                                                                          </td><td>1,441.47                                                                                                          </td><td>1,400.73                                                                                                          </td><td>1,441.47                                                                                                          </td><td>1,441.47                                                                                                          </td><td>1,225,200,000                                                                                                     </td></tr>\n",
       "\t<tr><td>2000-01-06                                                                                                        </td><td>1,402.11                                                                                                          </td><td>1,411.90                                                                                                          </td><td>1,392.10                                                                                                          </td><td>1,403.45                                                                                                          </td><td>1,403.45                                                                                                          </td><td>1,092,300,000                                                                                                     </td></tr>\n",
       "\t<tr><td>2000-01-05                                                                                                        </td><td>1,399.42                                                                                                          </td><td>1,413.27                                                                                                          </td><td>1,377.68                                                                                                          </td><td>1,402.11                                                                                                          </td><td>1,402.11                                                                                                          </td><td>1,085,500,000                                                                                                     </td></tr>\n",
       "\t<tr><td>2000-01-04                                                                                                        </td><td>1,455.22                                                                                                          </td><td>1,455.22                                                                                                          </td><td>1,397.43                                                                                                          </td><td>1,399.42                                                                                                          </td><td>1,399.42                                                                                                          </td><td>1,009,000,000                                                                                                     </td></tr>\n",
       "\t<tr><td>2000-01-03                                                                                                        </td><td>1,469.25                                                                                                          </td><td>1,478.00                                                                                                          </td><td>1,438.36                                                                                                          </td><td>1,455.22                                                                                                          </td><td>1,455.22                                                                                                          </td><td>931,800,000                                                                                                       </td></tr>\n",
       "\t<tr><td>*Close price adjusted for splits.**Close price adjusted for splits and dividend and/or capital gain distributions.</td><td>                                                                                                                  </td><td>                                                                                                                  </td><td>                                                                                                                  </td><td>                                                                                                                  </td><td>                                                                                                                  </td><td>                                                                                                                  </td></tr>\n",
       "</tbody>\n",
       "</table>\n"
      ],
      "text/latex": [
       "\\begin{tabular}{r|lllllll}\n",
       " Date & Open & High & Low & Close* & Adj. close** & Volume\\\\\n",
       "\\hline\n",
       "\t 2021-09-30    & 4,370.67      & 4,382.55      & 4,306.24      & 4,307.54      & 4,307.54      & 3,123,770,000\\\\\n",
       "\t 2021-09-29    & 4,362.41      & 4,385.57      & 4,355.08      & 4,359.46      & 4,359.46      & 2,753,800,000\\\\\n",
       "\t 2021-09-28    & 4,419.54      & 4,419.54      & 4,346.33      & 4,352.63      & 4,352.63      & 3,495,970,000\\\\\n",
       "\t 2021-09-27    & 4,442.12      & 4,457.30      & 4,436.19      & 4,443.11      & 4,443.11      & 3,032,870,000\\\\\n",
       "\t 2021-09-24    & 4,438.04      & 4,463.12      & 4,430.27      & 4,455.48      & 4,455.48      & 2,772,090,000\\\\\n",
       "\t 2021-09-23    & 4,406.75      & 4,465.40      & 4,406.75      & 4,448.98      & 4,448.98      & 2,833,290,000\\\\\n",
       "\t 2021-09-22    & 4,367.43      & 4,416.75      & 4,367.43      & 4,395.64      & 4,395.64      & 3,273,670,000\\\\\n",
       "\t 2021-09-21    & 4,374.45      & 4,394.87      & 4,347.96      & 4,354.19      & 4,354.19      & 3,044,300,000\\\\\n",
       "\t 2021-09-20    & 4,402.95      & 4,402.95      & 4,305.91      & 4,357.73      & 4,357.73      & 3,773,680,000\\\\\n",
       "\t 2021-09-17    & 4,469.74      & 4,471.52      & 4,427.76      & 4,432.99      & 4,432.99      & 5,622,210,000\\\\\n",
       "\t 2021-09-16    & 4,477.09      & 4,485.87      & 4,443.80      & 4,473.75      & 4,473.75      & 3,321,030,000\\\\\n",
       "\t 2021-09-15    & 4,447.49      & 4,486.87      & 4,438.37      & 4,480.70      & 4,480.70      & 3,154,760,000\\\\\n",
       "\t 2021-09-14    & 4,479.33      & 4,485.68      & 4,435.46      & 4,443.05      & 4,443.05      & 2,568,730,000\\\\\n",
       "\t 2021-09-13    & 4,474.81      & 4,492.99      & 4,445.70      & 4,468.73      & 4,468.73      & 3,096,390,000\\\\\n",
       "\t 2021-09-10    & 4,506.92      & 4,520.47      & 4,457.66      & 4,458.58      & 4,458.58      & 2,851,140,000\\\\\n",
       "\t 2021-09-09    & 4,513.02      & 4,529.90      & 4,492.07      & 4,493.28      & 4,493.28      & 3,035,300,000\\\\\n",
       "\t 2021-09-08    & 4,518.09      & 4,521.79      & 4,493.95      & 4,514.07      & 4,514.07      & 2,808,480,000\\\\\n",
       "\t 2021-09-07    & 4,535.38      & 4,535.38      & 4,513.00      & 4,520.03      & 4,520.03      & 3,098,870,000\\\\\n",
       "\t 2021-09-03    & 4,532.42      & 4,541.45      & 4,521.30      & 4,535.43      & 4,535.43      & 2,609,660,000\\\\\n",
       "\t 2021-09-02    & 4,534.48      & 4,545.85      & 4,524.66      & 4,536.95      & 4,536.95      & 2,897,010,000\\\\\n",
       "\t 2021-09-01    & 4,528.80      & 4,537.11      & 4,522.02      & 4,524.09      & 4,524.09      & 3,101,830,000\\\\\n",
       "\t 2021-08-31    & 4,529.75      & 4,531.39      & 4,515.80      & 4,522.68      & 4,522.68      & 3,090,380,000\\\\\n",
       "\t 2021-08-30    & 4,513.76      & 4,537.36      & 4,513.76      & 4,528.79      & 4,528.79      & 2,557,300,000\\\\\n",
       "\t 2021-08-27    & 4,474.10      & 4,513.33      & 4,474.10      & 4,509.37      & 4,509.37      & 2,862,360,000\\\\\n",
       "\t 2021-08-26    & 4,493.75      & 4,495.90      & 4,468.99      & 4,470.00      & 4,470.00      & 2,704,600,000\\\\\n",
       "\t 2021-08-25    & 4,490.45      & 4,501.71      & 4,485.66      & 4,496.19      & 4,496.19      & 2,554,680,000\\\\\n",
       "\t 2021-08-24    & 4,484.40      & 4,492.81      & 4,482.28      & 4,486.23      & 4,486.23      & 3,037,770,000\\\\\n",
       "\t 2021-08-23    & 4,450.29      & 4,489.88      & 4,450.29      & 4,479.53      & 4,479.53      & 2,965,520,000\\\\\n",
       "\t 2021-08-20    & 4,410.56      & 4,444.35      & 4,406.80      & 4,441.67      & 4,441.67      & 2,867,770,000\\\\\n",
       "\t 2021-08-19    & 4,382.44      & 4,418.61      & 4,367.73      & 4,405.80      & 4,405.80      & 3,120,840,000\\\\\n",
       "\t ... & ... & ... & ... & ... & ... & ...\\\\\n",
       "\t 2000-02-11                                                                                                         & 1,416.83                                                                                                           & 1,416.83                                                                                                           & 1,378.89                                                                                                           & 1,387.12                                                                                                           & 1,387.12                                                                                                           & 1,025,700,000                                                                                                     \\\\\n",
       "\t 2000-02-10                                                                                                         & 1,411.70                                                                                                           & 1,422.10                                                                                                           & 1,406.43                                                                                                           & 1,416.83                                                                                                           & 1,416.83                                                                                                           & 1,058,800,000                                                                                                     \\\\\n",
       "\t 2000-02-09                                                                                                         & 1,441.72                                                                                                           & 1,444.55                                                                                                           & 1,411.65                                                                                                           & 1,411.71                                                                                                           & 1,411.71                                                                                                           & 1,050,500,000                                                                                                     \\\\\n",
       "\t 2000-02-08                                                                                                         & 1,424.24                                                                                                           & 1,441.83                                                                                                           & 1,424.24                                                                                                           & 1,441.72                                                                                                           & 1,441.72                                                                                                           & 1,047,700,000                                                                                                     \\\\\n",
       "\t 2000-02-07                                                                                                         & 1,424.37                                                                                                           & 1,427.15                                                                                                           & 1,413.33                                                                                                           & 1,424.24                                                                                                           & 1,424.24                                                                                                           & 918,100,000                                                                                                       \\\\\n",
       "\t 2000-02-04                                                                                                         & 1,424.97                                                                                                           & 1,435.91                                                                                                           & 1,420.63                                                                                                           & 1,424.37                                                                                                           & 1,424.37                                                                                                           & 1,045,100,000                                                                                                     \\\\\n",
       "\t 2000-02-03                                                                                                         & 1,409.12                                                                                                           & 1,425.78                                                                                                           & 1,398.52                                                                                                           & 1,424.97                                                                                                           & 1,424.97                                                                                                           & 1,146,500,000                                                                                                     \\\\\n",
       "\t 2000-02-02                                                                                                         & 1,409.28                                                                                                           & 1,420.61                                                                                                           & 1,403.49                                                                                                           & 1,409.12                                                                                                           & 1,409.12                                                                                                           & 1,038,600,000                                                                                                     \\\\\n",
       "\t 2000-02-01                                                                                                         & 1,394.46                                                                                                           & 1,412.49                                                                                                           & 1,384.79                                                                                                           & 1,409.28                                                                                                           & 1,409.28                                                                                                           & 981,000,000                                                                                                       \\\\\n",
       "\t 2000-01-31                                                                                                         & 1,360.16                                                                                                           & 1,394.48                                                                                                           & 1,350.14                                                                                                           & 1,394.46                                                                                                           & 1,394.46                                                                                                           & 993,800,000                                                                                                       \\\\\n",
       "\t 2000-01-28                                                                                                         & 1,398.56                                                                                                           & 1,398.56                                                                                                           & 1,356.20                                                                                                           & 1,360.16                                                                                                           & 1,360.16                                                                                                           & 1,095,800,000                                                                                                     \\\\\n",
       "\t 2000-01-27                                                                                                         & 1,404.09                                                                                                           & 1,418.86                                                                                                           & 1,370.99                                                                                                           & 1,398.56                                                                                                           & 1,398.56                                                                                                           & 1,129,500,000                                                                                                     \\\\\n",
       "\t 2000-01-26                                                                                                         & 1,410.03                                                                                                           & 1,412.73                                                                                                           & 1,400.16                                                                                                           & 1,404.09                                                                                                           & 1,404.09                                                                                                           & 1,117,300,000                                                                                                     \\\\\n",
       "\t 2000-01-25                                                                                                         & 1,401.53                                                                                                           & 1,414.26                                                                                                           & 1,388.49                                                                                                           & 1,410.03                                                                                                           & 1,410.03                                                                                                           & 1,073,700,000                                                                                                     \\\\\n",
       "\t 2000-01-24                                                                                                         & 1,441.36                                                                                                           & 1,454.09                                                                                                           & 1,395.42                                                                                                           & 1,401.53                                                                                                           & 1,401.53                                                                                                           & 1,115,800,000                                                                                                     \\\\\n",
       "\t 2000-01-21                                                                                                         & 1,445.57                                                                                                           & 1,453.18                                                                                                           & 1,439.60                                                                                                           & 1,441.36                                                                                                           & 1,441.36                                                                                                           & 1,209,800,000                                                                                                     \\\\\n",
       "\t 2000-01-20                                                                                                         & 1,455.90                                                                                                           & 1,465.71                                                                                                           & 1,438.54                                                                                                           & 1,445.57                                                                                                           & 1,445.57                                                                                                           & 1,100,700,000                                                                                                     \\\\\n",
       "\t 2000-01-19                                                                                                         & 1,455.14                                                                                                           & 1,461.39                                                                                                           & 1,448.68                                                                                                           & 1,455.90                                                                                                           & 1,455.90                                                                                                           & 1,087,800,000                                                                                                     \\\\\n",
       "\t 2000-01-18                                                                                                         & 1,465.15                                                                                                           & 1,465.15                                                                                                           & 1,451.30                                                                                                           & 1,455.14                                                                                                           & 1,455.14                                                                                                           & 1,056,700,000                                                                                                     \\\\\n",
       "\t 2000-01-14                                                                                                         & 1,449.68                                                                                                           & 1,473.00                                                                                                           & 1,449.68                                                                                                           & 1,465.15                                                                                                           & 1,465.15                                                                                                           & 1,085,900,000                                                                                                     \\\\\n",
       "\t 2000-01-13                                                                                                         & 1,432.25                                                                                                           & 1,454.20                                                                                                           & 1,432.25                                                                                                           & 1,449.68                                                                                                           & 1,449.68                                                                                                           & 1,030,400,000                                                                                                     \\\\\n",
       "\t 2000-01-12                                                                                                         & 1,438.56                                                                                                           & 1,442.60                                                                                                           & 1,427.08                                                                                                           & 1,432.25                                                                                                           & 1,432.25                                                                                                           & 974,600,000                                                                                                       \\\\\n",
       "\t 2000-01-11                                                                                                         & 1,457.60                                                                                                           & 1,458.66                                                                                                           & 1,434.42                                                                                                           & 1,438.56                                                                                                           & 1,438.56                                                                                                           & 1,014,000,000                                                                                                     \\\\\n",
       "\t 2000-01-10                                                                                                         & 1,441.47                                                                                                           & 1,464.36                                                                                                           & 1,441.47                                                                                                           & 1,457.60                                                                                                           & 1,457.60                                                                                                           & 1,064,800,000                                                                                                     \\\\\n",
       "\t 2000-01-07                                                                                                         & 1,403.45                                                                                                           & 1,441.47                                                                                                           & 1,400.73                                                                                                           & 1,441.47                                                                                                           & 1,441.47                                                                                                           & 1,225,200,000                                                                                                     \\\\\n",
       "\t 2000-01-06                                                                                                         & 1,402.11                                                                                                           & 1,411.90                                                                                                           & 1,392.10                                                                                                           & 1,403.45                                                                                                           & 1,403.45                                                                                                           & 1,092,300,000                                                                                                     \\\\\n",
       "\t 2000-01-05                                                                                                         & 1,399.42                                                                                                           & 1,413.27                                                                                                           & 1,377.68                                                                                                           & 1,402.11                                                                                                           & 1,402.11                                                                                                           & 1,085,500,000                                                                                                     \\\\\n",
       "\t 2000-01-04                                                                                                         & 1,455.22                                                                                                           & 1,455.22                                                                                                           & 1,397.43                                                                                                           & 1,399.42                                                                                                           & 1,399.42                                                                                                           & 1,009,000,000                                                                                                     \\\\\n",
       "\t 2000-01-03                                                                                                         & 1,469.25                                                                                                           & 1,478.00                                                                                                           & 1,438.36                                                                                                           & 1,455.22                                                                                                           & 1,455.22                                                                                                           & 931,800,000                                                                                                       \\\\\n",
       "\t *Close price adjusted for splits.**Close price adjusted for splits and dividend and/or capital gain distributions. &                                                                                                                    &                                                                                                                    &                                                                                                                    &                                                                                                                    &                                                                                                                    &                                                                                                                   \\\\\n",
       "\\end{tabular}\n"
      ],
      "text/markdown": [
       "\n",
       "| Date | Open | High | Low | Close* | Adj. close** | Volume |\n",
       "|---|---|---|---|---|---|---|\n",
       "| 2021-09-30    | 4,370.67      | 4,382.55      | 4,306.24      | 4,307.54      | 4,307.54      | 3,123,770,000 |\n",
       "| 2021-09-29    | 4,362.41      | 4,385.57      | 4,355.08      | 4,359.46      | 4,359.46      | 2,753,800,000 |\n",
       "| 2021-09-28    | 4,419.54      | 4,419.54      | 4,346.33      | 4,352.63      | 4,352.63      | 3,495,970,000 |\n",
       "| 2021-09-27    | 4,442.12      | 4,457.30      | 4,436.19      | 4,443.11      | 4,443.11      | 3,032,870,000 |\n",
       "| 2021-09-24    | 4,438.04      | 4,463.12      | 4,430.27      | 4,455.48      | 4,455.48      | 2,772,090,000 |\n",
       "| 2021-09-23    | 4,406.75      | 4,465.40      | 4,406.75      | 4,448.98      | 4,448.98      | 2,833,290,000 |\n",
       "| 2021-09-22    | 4,367.43      | 4,416.75      | 4,367.43      | 4,395.64      | 4,395.64      | 3,273,670,000 |\n",
       "| 2021-09-21    | 4,374.45      | 4,394.87      | 4,347.96      | 4,354.19      | 4,354.19      | 3,044,300,000 |\n",
       "| 2021-09-20    | 4,402.95      | 4,402.95      | 4,305.91      | 4,357.73      | 4,357.73      | 3,773,680,000 |\n",
       "| 2021-09-17    | 4,469.74      | 4,471.52      | 4,427.76      | 4,432.99      | 4,432.99      | 5,622,210,000 |\n",
       "| 2021-09-16    | 4,477.09      | 4,485.87      | 4,443.80      | 4,473.75      | 4,473.75      | 3,321,030,000 |\n",
       "| 2021-09-15    | 4,447.49      | 4,486.87      | 4,438.37      | 4,480.70      | 4,480.70      | 3,154,760,000 |\n",
       "| 2021-09-14    | 4,479.33      | 4,485.68      | 4,435.46      | 4,443.05      | 4,443.05      | 2,568,730,000 |\n",
       "| 2021-09-13    | 4,474.81      | 4,492.99      | 4,445.70      | 4,468.73      | 4,468.73      | 3,096,390,000 |\n",
       "| 2021-09-10    | 4,506.92      | 4,520.47      | 4,457.66      | 4,458.58      | 4,458.58      | 2,851,140,000 |\n",
       "| 2021-09-09    | 4,513.02      | 4,529.90      | 4,492.07      | 4,493.28      | 4,493.28      | 3,035,300,000 |\n",
       "| 2021-09-08    | 4,518.09      | 4,521.79      | 4,493.95      | 4,514.07      | 4,514.07      | 2,808,480,000 |\n",
       "| 2021-09-07    | 4,535.38      | 4,535.38      | 4,513.00      | 4,520.03      | 4,520.03      | 3,098,870,000 |\n",
       "| 2021-09-03    | 4,532.42      | 4,541.45      | 4,521.30      | 4,535.43      | 4,535.43      | 2,609,660,000 |\n",
       "| 2021-09-02    | 4,534.48      | 4,545.85      | 4,524.66      | 4,536.95      | 4,536.95      | 2,897,010,000 |\n",
       "| 2021-09-01    | 4,528.80      | 4,537.11      | 4,522.02      | 4,524.09      | 4,524.09      | 3,101,830,000 |\n",
       "| 2021-08-31    | 4,529.75      | 4,531.39      | 4,515.80      | 4,522.68      | 4,522.68      | 3,090,380,000 |\n",
       "| 2021-08-30    | 4,513.76      | 4,537.36      | 4,513.76      | 4,528.79      | 4,528.79      | 2,557,300,000 |\n",
       "| 2021-08-27    | 4,474.10      | 4,513.33      | 4,474.10      | 4,509.37      | 4,509.37      | 2,862,360,000 |\n",
       "| 2021-08-26    | 4,493.75      | 4,495.90      | 4,468.99      | 4,470.00      | 4,470.00      | 2,704,600,000 |\n",
       "| 2021-08-25    | 4,490.45      | 4,501.71      | 4,485.66      | 4,496.19      | 4,496.19      | 2,554,680,000 |\n",
       "| 2021-08-24    | 4,484.40      | 4,492.81      | 4,482.28      | 4,486.23      | 4,486.23      | 3,037,770,000 |\n",
       "| 2021-08-23    | 4,450.29      | 4,489.88      | 4,450.29      | 4,479.53      | 4,479.53      | 2,965,520,000 |\n",
       "| 2021-08-20    | 4,410.56      | 4,444.35      | 4,406.80      | 4,441.67      | 4,441.67      | 2,867,770,000 |\n",
       "| 2021-08-19    | 4,382.44      | 4,418.61      | 4,367.73      | 4,405.80      | 4,405.80      | 3,120,840,000 |\n",
       "| ... | ... | ... | ... | ... | ... | ... |\n",
       "| 2000-02-11                                                                                                         | 1,416.83                                                                                                           | 1,416.83                                                                                                           | 1,378.89                                                                                                           | 1,387.12                                                                                                           | 1,387.12                                                                                                           | 1,025,700,000                                                                                                      |\n",
       "| 2000-02-10                                                                                                         | 1,411.70                                                                                                           | 1,422.10                                                                                                           | 1,406.43                                                                                                           | 1,416.83                                                                                                           | 1,416.83                                                                                                           | 1,058,800,000                                                                                                      |\n",
       "| 2000-02-09                                                                                                         | 1,441.72                                                                                                           | 1,444.55                                                                                                           | 1,411.65                                                                                                           | 1,411.71                                                                                                           | 1,411.71                                                                                                           | 1,050,500,000                                                                                                      |\n",
       "| 2000-02-08                                                                                                         | 1,424.24                                                                                                           | 1,441.83                                                                                                           | 1,424.24                                                                                                           | 1,441.72                                                                                                           | 1,441.72                                                                                                           | 1,047,700,000                                                                                                      |\n",
       "| 2000-02-07                                                                                                         | 1,424.37                                                                                                           | 1,427.15                                                                                                           | 1,413.33                                                                                                           | 1,424.24                                                                                                           | 1,424.24                                                                                                           | 918,100,000                                                                                                        |\n",
       "| 2000-02-04                                                                                                         | 1,424.97                                                                                                           | 1,435.91                                                                                                           | 1,420.63                                                                                                           | 1,424.37                                                                                                           | 1,424.37                                                                                                           | 1,045,100,000                                                                                                      |\n",
       "| 2000-02-03                                                                                                         | 1,409.12                                                                                                           | 1,425.78                                                                                                           | 1,398.52                                                                                                           | 1,424.97                                                                                                           | 1,424.97                                                                                                           | 1,146,500,000                                                                                                      |\n",
       "| 2000-02-02                                                                                                         | 1,409.28                                                                                                           | 1,420.61                                                                                                           | 1,403.49                                                                                                           | 1,409.12                                                                                                           | 1,409.12                                                                                                           | 1,038,600,000                                                                                                      |\n",
       "| 2000-02-01                                                                                                         | 1,394.46                                                                                                           | 1,412.49                                                                                                           | 1,384.79                                                                                                           | 1,409.28                                                                                                           | 1,409.28                                                                                                           | 981,000,000                                                                                                        |\n",
       "| 2000-01-31                                                                                                         | 1,360.16                                                                                                           | 1,394.48                                                                                                           | 1,350.14                                                                                                           | 1,394.46                                                                                                           | 1,394.46                                                                                                           | 993,800,000                                                                                                        |\n",
       "| 2000-01-28                                                                                                         | 1,398.56                                                                                                           | 1,398.56                                                                                                           | 1,356.20                                                                                                           | 1,360.16                                                                                                           | 1,360.16                                                                                                           | 1,095,800,000                                                                                                      |\n",
       "| 2000-01-27                                                                                                         | 1,404.09                                                                                                           | 1,418.86                                                                                                           | 1,370.99                                                                                                           | 1,398.56                                                                                                           | 1,398.56                                                                                                           | 1,129,500,000                                                                                                      |\n",
       "| 2000-01-26                                                                                                         | 1,410.03                                                                                                           | 1,412.73                                                                                                           | 1,400.16                                                                                                           | 1,404.09                                                                                                           | 1,404.09                                                                                                           | 1,117,300,000                                                                                                      |\n",
       "| 2000-01-25                                                                                                         | 1,401.53                                                                                                           | 1,414.26                                                                                                           | 1,388.49                                                                                                           | 1,410.03                                                                                                           | 1,410.03                                                                                                           | 1,073,700,000                                                                                                      |\n",
       "| 2000-01-24                                                                                                         | 1,441.36                                                                                                           | 1,454.09                                                                                                           | 1,395.42                                                                                                           | 1,401.53                                                                                                           | 1,401.53                                                                                                           | 1,115,800,000                                                                                                      |\n",
       "| 2000-01-21                                                                                                         | 1,445.57                                                                                                           | 1,453.18                                                                                                           | 1,439.60                                                                                                           | 1,441.36                                                                                                           | 1,441.36                                                                                                           | 1,209,800,000                                                                                                      |\n",
       "| 2000-01-20                                                                                                         | 1,455.90                                                                                                           | 1,465.71                                                                                                           | 1,438.54                                                                                                           | 1,445.57                                                                                                           | 1,445.57                                                                                                           | 1,100,700,000                                                                                                      |\n",
       "| 2000-01-19                                                                                                         | 1,455.14                                                                                                           | 1,461.39                                                                                                           | 1,448.68                                                                                                           | 1,455.90                                                                                                           | 1,455.90                                                                                                           | 1,087,800,000                                                                                                      |\n",
       "| 2000-01-18                                                                                                         | 1,465.15                                                                                                           | 1,465.15                                                                                                           | 1,451.30                                                                                                           | 1,455.14                                                                                                           | 1,455.14                                                                                                           | 1,056,700,000                                                                                                      |\n",
       "| 2000-01-14                                                                                                         | 1,449.68                                                                                                           | 1,473.00                                                                                                           | 1,449.68                                                                                                           | 1,465.15                                                                                                           | 1,465.15                                                                                                           | 1,085,900,000                                                                                                      |\n",
       "| 2000-01-13                                                                                                         | 1,432.25                                                                                                           | 1,454.20                                                                                                           | 1,432.25                                                                                                           | 1,449.68                                                                                                           | 1,449.68                                                                                                           | 1,030,400,000                                                                                                      |\n",
       "| 2000-01-12                                                                                                         | 1,438.56                                                                                                           | 1,442.60                                                                                                           | 1,427.08                                                                                                           | 1,432.25                                                                                                           | 1,432.25                                                                                                           | 974,600,000                                                                                                        |\n",
       "| 2000-01-11                                                                                                         | 1,457.60                                                                                                           | 1,458.66                                                                                                           | 1,434.42                                                                                                           | 1,438.56                                                                                                           | 1,438.56                                                                                                           | 1,014,000,000                                                                                                      |\n",
       "| 2000-01-10                                                                                                         | 1,441.47                                                                                                           | 1,464.36                                                                                                           | 1,441.47                                                                                                           | 1,457.60                                                                                                           | 1,457.60                                                                                                           | 1,064,800,000                                                                                                      |\n",
       "| 2000-01-07                                                                                                         | 1,403.45                                                                                                           | 1,441.47                                                                                                           | 1,400.73                                                                                                           | 1,441.47                                                                                                           | 1,441.47                                                                                                           | 1,225,200,000                                                                                                      |\n",
       "| 2000-01-06                                                                                                         | 1,402.11                                                                                                           | 1,411.90                                                                                                           | 1,392.10                                                                                                           | 1,403.45                                                                                                           | 1,403.45                                                                                                           | 1,092,300,000                                                                                                      |\n",
       "| 2000-01-05                                                                                                         | 1,399.42                                                                                                           | 1,413.27                                                                                                           | 1,377.68                                                                                                           | 1,402.11                                                                                                           | 1,402.11                                                                                                           | 1,085,500,000                                                                                                      |\n",
       "| 2000-01-04                                                                                                         | 1,455.22                                                                                                           | 1,455.22                                                                                                           | 1,397.43                                                                                                           | 1,399.42                                                                                                           | 1,399.42                                                                                                           | 1,009,000,000                                                                                                      |\n",
       "| 2000-01-03                                                                                                         | 1,469.25                                                                                                           | 1,478.00                                                                                                           | 1,438.36                                                                                                           | 1,455.22                                                                                                           | 1,455.22                                                                                                           | 931,800,000                                                                                                        |\n",
       "| *Close price adjusted for splits.**Close price adjusted for splits and dividend and/or capital gain distributions. |                                                                                                                    |                                                                                                                    |                                                                                                                    |                                                                                                                    |                                                                                                                    |                                                                                                                    |\n",
       "\n"
      ],
      "text/plain": [
       "     Date                                                                                                              \n",
       "1    2021-09-30                                                                                                        \n",
       "2    2021-09-29                                                                                                        \n",
       "3    2021-09-28                                                                                                        \n",
       "4    2021-09-27                                                                                                        \n",
       "5    2021-09-24                                                                                                        \n",
       "6    2021-09-23                                                                                                        \n",
       "7    2021-09-22                                                                                                        \n",
       "8    2021-09-21                                                                                                        \n",
       "9    2021-09-20                                                                                                        \n",
       "10   2021-09-17                                                                                                        \n",
       "11   2021-09-16                                                                                                        \n",
       "12   2021-09-15                                                                                                        \n",
       "13   2021-09-14                                                                                                        \n",
       "14   2021-09-13                                                                                                        \n",
       "15   2021-09-10                                                                                                        \n",
       "16   2021-09-09                                                                                                        \n",
       "17   2021-09-08                                                                                                        \n",
       "18   2021-09-07                                                                                                        \n",
       "19   2021-09-03                                                                                                        \n",
       "20   2021-09-02                                                                                                        \n",
       "21   2021-09-01                                                                                                        \n",
       "22   2021-08-31                                                                                                        \n",
       "23   2021-08-30                                                                                                        \n",
       "24   2021-08-27                                                                                                        \n",
       "25   2021-08-26                                                                                                        \n",
       "26   2021-08-25                                                                                                        \n",
       "27   2021-08-24                                                                                                        \n",
       "28   2021-08-23                                                                                                        \n",
       "29   2021-08-20                                                                                                        \n",
       "30   2021-08-19                                                                                                        \n",
       "...  ...                                                                                                               \n",
       "5444 2000-02-11                                                                                                        \n",
       "5445 2000-02-10                                                                                                        \n",
       "5446 2000-02-09                                                                                                        \n",
       "5447 2000-02-08                                                                                                        \n",
       "5448 2000-02-07                                                                                                        \n",
       "5449 2000-02-04                                                                                                        \n",
       "5450 2000-02-03                                                                                                        \n",
       "5451 2000-02-02                                                                                                        \n",
       "5452 2000-02-01                                                                                                        \n",
       "5453 2000-01-31                                                                                                        \n",
       "5454 2000-01-28                                                                                                        \n",
       "5455 2000-01-27                                                                                                        \n",
       "5456 2000-01-26                                                                                                        \n",
       "5457 2000-01-25                                                                                                        \n",
       "5458 2000-01-24                                                                                                        \n",
       "5459 2000-01-21                                                                                                        \n",
       "5460 2000-01-20                                                                                                        \n",
       "5461 2000-01-19                                                                                                        \n",
       "5462 2000-01-18                                                                                                        \n",
       "5463 2000-01-14                                                                                                        \n",
       "5464 2000-01-13                                                                                                        \n",
       "5465 2000-01-12                                                                                                        \n",
       "5466 2000-01-11                                                                                                        \n",
       "5467 2000-01-10                                                                                                        \n",
       "5468 2000-01-07                                                                                                        \n",
       "5469 2000-01-06                                                                                                        \n",
       "5470 2000-01-05                                                                                                        \n",
       "5471 2000-01-04                                                                                                        \n",
       "5472 2000-01-03                                                                                                        \n",
       "5473 *Close price adjusted for splits.**Close price adjusted for splits and dividend and/or capital gain distributions.\n",
       "     Open     High     Low      Close*   Adj. close** Volume       \n",
       "1    4,370.67 4,382.55 4,306.24 4,307.54 4,307.54     3,123,770,000\n",
       "2    4,362.41 4,385.57 4,355.08 4,359.46 4,359.46     2,753,800,000\n",
       "3    4,419.54 4,419.54 4,346.33 4,352.63 4,352.63     3,495,970,000\n",
       "4    4,442.12 4,457.30 4,436.19 4,443.11 4,443.11     3,032,870,000\n",
       "5    4,438.04 4,463.12 4,430.27 4,455.48 4,455.48     2,772,090,000\n",
       "6    4,406.75 4,465.40 4,406.75 4,448.98 4,448.98     2,833,290,000\n",
       "7    4,367.43 4,416.75 4,367.43 4,395.64 4,395.64     3,273,670,000\n",
       "8    4,374.45 4,394.87 4,347.96 4,354.19 4,354.19     3,044,300,000\n",
       "9    4,402.95 4,402.95 4,305.91 4,357.73 4,357.73     3,773,680,000\n",
       "10   4,469.74 4,471.52 4,427.76 4,432.99 4,432.99     5,622,210,000\n",
       "11   4,477.09 4,485.87 4,443.80 4,473.75 4,473.75     3,321,030,000\n",
       "12   4,447.49 4,486.87 4,438.37 4,480.70 4,480.70     3,154,760,000\n",
       "13   4,479.33 4,485.68 4,435.46 4,443.05 4,443.05     2,568,730,000\n",
       "14   4,474.81 4,492.99 4,445.70 4,468.73 4,468.73     3,096,390,000\n",
       "15   4,506.92 4,520.47 4,457.66 4,458.58 4,458.58     2,851,140,000\n",
       "16   4,513.02 4,529.90 4,492.07 4,493.28 4,493.28     3,035,300,000\n",
       "17   4,518.09 4,521.79 4,493.95 4,514.07 4,514.07     2,808,480,000\n",
       "18   4,535.38 4,535.38 4,513.00 4,520.03 4,520.03     3,098,870,000\n",
       "19   4,532.42 4,541.45 4,521.30 4,535.43 4,535.43     2,609,660,000\n",
       "20   4,534.48 4,545.85 4,524.66 4,536.95 4,536.95     2,897,010,000\n",
       "21   4,528.80 4,537.11 4,522.02 4,524.09 4,524.09     3,101,830,000\n",
       "22   4,529.75 4,531.39 4,515.80 4,522.68 4,522.68     3,090,380,000\n",
       "23   4,513.76 4,537.36 4,513.76 4,528.79 4,528.79     2,557,300,000\n",
       "24   4,474.10 4,513.33 4,474.10 4,509.37 4,509.37     2,862,360,000\n",
       "25   4,493.75 4,495.90 4,468.99 4,470.00 4,470.00     2,704,600,000\n",
       "26   4,490.45 4,501.71 4,485.66 4,496.19 4,496.19     2,554,680,000\n",
       "27   4,484.40 4,492.81 4,482.28 4,486.23 4,486.23     3,037,770,000\n",
       "28   4,450.29 4,489.88 4,450.29 4,479.53 4,479.53     2,965,520,000\n",
       "29   4,410.56 4,444.35 4,406.80 4,441.67 4,441.67     2,867,770,000\n",
       "30   4,382.44 4,418.61 4,367.73 4,405.80 4,405.80     3,120,840,000\n",
       "...  ...      ...      ...      ...      ...          ...          \n",
       "5444 1,416.83 1,416.83 1,378.89 1,387.12 1,387.12     1,025,700,000\n",
       "5445 1,411.70 1,422.10 1,406.43 1,416.83 1,416.83     1,058,800,000\n",
       "5446 1,441.72 1,444.55 1,411.65 1,411.71 1,411.71     1,050,500,000\n",
       "5447 1,424.24 1,441.83 1,424.24 1,441.72 1,441.72     1,047,700,000\n",
       "5448 1,424.37 1,427.15 1,413.33 1,424.24 1,424.24     918,100,000  \n",
       "5449 1,424.97 1,435.91 1,420.63 1,424.37 1,424.37     1,045,100,000\n",
       "5450 1,409.12 1,425.78 1,398.52 1,424.97 1,424.97     1,146,500,000\n",
       "5451 1,409.28 1,420.61 1,403.49 1,409.12 1,409.12     1,038,600,000\n",
       "5452 1,394.46 1,412.49 1,384.79 1,409.28 1,409.28     981,000,000  \n",
       "5453 1,360.16 1,394.48 1,350.14 1,394.46 1,394.46     993,800,000  \n",
       "5454 1,398.56 1,398.56 1,356.20 1,360.16 1,360.16     1,095,800,000\n",
       "5455 1,404.09 1,418.86 1,370.99 1,398.56 1,398.56     1,129,500,000\n",
       "5456 1,410.03 1,412.73 1,400.16 1,404.09 1,404.09     1,117,300,000\n",
       "5457 1,401.53 1,414.26 1,388.49 1,410.03 1,410.03     1,073,700,000\n",
       "5458 1,441.36 1,454.09 1,395.42 1,401.53 1,401.53     1,115,800,000\n",
       "5459 1,445.57 1,453.18 1,439.60 1,441.36 1,441.36     1,209,800,000\n",
       "5460 1,455.90 1,465.71 1,438.54 1,445.57 1,445.57     1,100,700,000\n",
       "5461 1,455.14 1,461.39 1,448.68 1,455.90 1,455.90     1,087,800,000\n",
       "5462 1,465.15 1,465.15 1,451.30 1,455.14 1,455.14     1,056,700,000\n",
       "5463 1,449.68 1,473.00 1,449.68 1,465.15 1,465.15     1,085,900,000\n",
       "5464 1,432.25 1,454.20 1,432.25 1,449.68 1,449.68     1,030,400,000\n",
       "5465 1,438.56 1,442.60 1,427.08 1,432.25 1,432.25     974,600,000  \n",
       "5466 1,457.60 1,458.66 1,434.42 1,438.56 1,438.56     1,014,000,000\n",
       "5467 1,441.47 1,464.36 1,441.47 1,457.60 1,457.60     1,064,800,000\n",
       "5468 1,403.45 1,441.47 1,400.73 1,441.47 1,441.47     1,225,200,000\n",
       "5469 1,402.11 1,411.90 1,392.10 1,403.45 1,403.45     1,092,300,000\n",
       "5470 1,399.42 1,413.27 1,377.68 1,402.11 1,402.11     1,085,500,000\n",
       "5471 1,455.22 1,455.22 1,397.43 1,399.42 1,399.42     1,009,000,000\n",
       "5472 1,469.25 1,478.00 1,438.36 1,455.22 1,455.22     931,800,000  \n",
       "5473                                                               "
      ]
     },
     "metadata": {},
     "output_type": "display_data"
    }
   ],
   "source": [
    "IBM"
   ]
  },
  {
   "cell_type": "code",
   "execution_count": null,
   "id": "7cb09206",
   "metadata": {},
   "outputs": [],
   "source": []
  }
 ],
 "metadata": {
  "kernelspec": {
   "display_name": "R",
   "language": "R",
   "name": "ir"
  },
  "language_info": {
   "codemirror_mode": "r",
   "file_extension": ".r",
   "mimetype": "text/x-r-source",
   "name": "R",
   "pygments_lexer": "r",
   "version": "3.6.1"
  }
 },
 "nbformat": 4,
 "nbformat_minor": 5
}
